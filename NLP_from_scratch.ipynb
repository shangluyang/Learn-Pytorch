{
  "nbformat": 4,
  "nbformat_minor": 0,
  "metadata": {
    "colab": {
      "provenance": []
    },
    "kernelspec": {
      "name": "python3",
      "display_name": "Python 3"
    },
    "language_info": {
      "name": "python"
    }
  },
  "cells": [
    {
      "cell_type": "code",
      "execution_count": null,
      "metadata": {
        "colab": {
          "base_uri": "https://localhost:8080/"
        },
        "id": "Wpb5Mmg6rOe4",
        "outputId": "e46a6e61-ac62-4bea-9495-ddb614e8ff2b"
      },
      "outputs": [
        {
          "output_type": "stream",
          "name": "stdout",
          "text": [
            "Drive already mounted at /content/gdrive/; to attempt to forcibly remount, call drive.mount(\"/content/gdrive/\", force_remount=True).\n"
          ]
        }
      ],
      "source": [
        "import sys\n",
        "from google.colab import drive\n",
        "drive.mount('/content/gdrive/')\n",
        "sys.path.append('/content/gdrive/MyDrive/pytorch/data/data_name')"
      ]
    },
    {
      "cell_type": "code",
      "source": [
        "from __future__ import unicode_literals, print_function, division\n",
        "from io import open\n",
        "import glob\n",
        "import unicodedata\n",
        "import string\n",
        "import torch\n",
        "import numpy as np"
      ],
      "metadata": {
        "id": "yOFkihD6tREx"
      },
      "execution_count": null,
      "outputs": []
    },
    {
      "cell_type": "code",
      "source": [
        "System_path = '/content/gdrive/MyDrive/pytorch/data/data_name/names/'\n",
        "path = System_path + '*.txt'\n",
        "all_path = glob.glob(path)"
      ],
      "metadata": {
        "id": "O8w-8_MAs5pD"
      },
      "execution_count": null,
      "outputs": []
    },
    {
      "cell_type": "code",
      "source": [
        "all_path"
      ],
      "metadata": {
        "colab": {
          "base_uri": "https://localhost:8080/"
        },
        "id": "r3ODVgxIwYCg",
        "outputId": "49ee413a-c9b6-4fd2-d51e-130b72e5f688"
      },
      "execution_count": null,
      "outputs": [
        {
          "output_type": "execute_result",
          "data": {
            "text/plain": [
              "['/content/gdrive/MyDrive/pytorch/data/data_name/names/Scottish.txt',\n",
              " '/content/gdrive/MyDrive/pytorch/data/data_name/names/Polish.txt',\n",
              " '/content/gdrive/MyDrive/pytorch/data/data_name/names/French.txt',\n",
              " '/content/gdrive/MyDrive/pytorch/data/data_name/names/English.txt',\n",
              " '/content/gdrive/MyDrive/pytorch/data/data_name/names/Korean.txt',\n",
              " '/content/gdrive/MyDrive/pytorch/data/data_name/names/Dutch.txt',\n",
              " '/content/gdrive/MyDrive/pytorch/data/data_name/names/Irish.txt',\n",
              " '/content/gdrive/MyDrive/pytorch/data/data_name/names/Greek.txt',\n",
              " '/content/gdrive/MyDrive/pytorch/data/data_name/names/Russian.txt',\n",
              " '/content/gdrive/MyDrive/pytorch/data/data_name/names/Italian.txt',\n",
              " '/content/gdrive/MyDrive/pytorch/data/data_name/names/Spanish.txt',\n",
              " '/content/gdrive/MyDrive/pytorch/data/data_name/names/Czech.txt',\n",
              " '/content/gdrive/MyDrive/pytorch/data/data_name/names/Portuguese.txt',\n",
              " '/content/gdrive/MyDrive/pytorch/data/data_name/names/Japanese.txt',\n",
              " '/content/gdrive/MyDrive/pytorch/data/data_name/names/Arabic.txt',\n",
              " '/content/gdrive/MyDrive/pytorch/data/data_name/names/Chinese.txt',\n",
              " '/content/gdrive/MyDrive/pytorch/data/data_name/names/German.txt',\n",
              " '/content/gdrive/MyDrive/pytorch/data/data_name/names/Vietnamese.txt']"
            ]
          },
          "metadata": {},
          "execution_count": 39
        }
      ]
    },
    {
      "cell_type": "code",
      "source": [
        "all_letters = string.ascii_letters + \" .,;'\"\n",
        "n_letters = len(all_letters)\n",
        "\n",
        "def unicodeToAscii(s):\n",
        "    return ''.join(\n",
        "        c for c in unicodedata.normalize('NFD', s)\n",
        "        if unicodedata.category(c) != 'Mn'\n",
        "        and c in all_letters\n",
        "    )\n",
        "\n",
        "print(unicodeToAscii('Ślusàrski'))"
      ],
      "metadata": {
        "colab": {
          "base_uri": "https://localhost:8080/"
        },
        "id": "YQx3rnWqtY39",
        "outputId": "b1c47971-eb2a-47b5-a891-5120f77cbc2b"
      },
      "execution_count": null,
      "outputs": [
        {
          "output_type": "stream",
          "name": "stdout",
          "text": [
            "Slusarski\n"
          ]
        }
      ]
    },
    {
      "cell_type": "code",
      "source": [
        "category_lines = {}\n",
        "all_categories = []\n",
        "temp_path = System_path + 'Scottish.txt'\n",
        "\n",
        "def readLines(file_path):\n",
        "  f = open(file_path, encoding='utf-8').read().strip().split('\\n')\n",
        "  return [unicodeToAscii(word) for word in f]\n",
        "\n",
        "for file_path in all_path:\n",
        "  category = file_path.split('/')[-1].split('.')[0]\n",
        "  all_categories.append(category)\n",
        "  category_lines[category] = readLines(file_path)"
      ],
      "metadata": {
        "id": "7wWZy6_ktxIk"
      },
      "execution_count": null,
      "outputs": []
    },
    {
      "cell_type": "code",
      "source": [
        "n_categories = len(all_categories)\n",
        "print(category_lines['Italian'][:5])"
      ],
      "metadata": {
        "colab": {
          "base_uri": "https://localhost:8080/"
        },
        "id": "b1XfmvAvvZ9L",
        "outputId": "6d8f4aee-c2d3-422b-e788-2f10286e7020"
      },
      "execution_count": null,
      "outputs": [
        {
          "output_type": "stream",
          "name": "stdout",
          "text": [
            "['Abandonato', 'Abatangelo', 'Abatantuono', 'Abate', 'Abategiovanni']\n"
          ]
        }
      ]
    },
    {
      "cell_type": "markdown",
      "source": [
        "## Turing name into tensor"
      ],
      "metadata": {
        "id": "7Agc0YehwvVE"
      }
    },
    {
      "cell_type": "code",
      "source": [
        "all_letters"
      ],
      "metadata": {
        "colab": {
          "base_uri": "https://localhost:8080/",
          "height": 35
        },
        "id": "3-5N-V3ixbJz",
        "outputId": "0982cfc0-76f1-4e81-a967-3cc738036d2d"
      },
      "execution_count": null,
      "outputs": [
        {
          "output_type": "execute_result",
          "data": {
            "text/plain": [
              "\"abcdefghijklmnopqrstuvwxyzABCDEFGHIJKLMNOPQRSTUVWXYZ .,;'\""
            ],
            "application/vnd.google.colaboratory.intrinsic+json": {
              "type": "string"
            }
          },
          "metadata": {},
          "execution_count": 43
        }
      ]
    },
    {
      "cell_type": "code",
      "source": [
        "def letterToIndex(letter):\n",
        "  # find index of given letter\n",
        "    return all_letters.find(letter)\n",
        "\n",
        "def letter_to_tensor(letter):\n",
        "  # one hot encoding with feature size = n_letters\n",
        "  tensor = torch.zeros((1, n_letters))\n",
        "  tensor[0][letterToIndex(letter)] = 1\n",
        "  return tensor\n",
        "\n",
        "def word_to_tensor(word):\n",
        "  tensor = torch.zeros((len(word), 1, n_letters))\n",
        "  for i in range(len(word)):\n",
        "    tensor[i] = letter_to_tensor(word[i])\n",
        "  return tensor"
      ],
      "metadata": {
        "id": "pIVNhSwHwsAl"
      },
      "execution_count": null,
      "outputs": []
    },
    {
      "cell_type": "code",
      "source": [
        "print(letter_to_tensor('J'))"
      ],
      "metadata": {
        "colab": {
          "base_uri": "https://localhost:8080/"
        },
        "id": "ydsjPzppyjQo",
        "outputId": "aed2ea31-1109-4707-a9a8-93f90dfeed0d"
      },
      "execution_count": null,
      "outputs": [
        {
          "output_type": "stream",
          "name": "stdout",
          "text": [
            "tensor([[0., 0., 0., 0., 0., 0., 0., 0., 0., 0., 0., 0., 0., 0., 0., 0., 0., 0.,\n",
            "         0., 0., 0., 0., 0., 0., 0., 0., 0., 0., 0., 0., 0., 0., 0., 0., 0., 1.,\n",
            "         0., 0., 0., 0., 0., 0., 0., 0., 0., 0., 0., 0., 0., 0., 0., 0., 0., 0.,\n",
            "         0., 0., 0.]])\n"
          ]
        }
      ]
    },
    {
      "cell_type": "markdown",
      "source": [
        "## Creating the Network"
      ],
      "metadata": {
        "id": "hyjeCr1Ay7yQ"
      }
    },
    {
      "cell_type": "code",
      "source": [
        "import torch.nn as nn\n",
        "\n",
        "class RNN(nn.Module):\n",
        "  def __init__(self, input_size, hidden_size, output_size):\n",
        "    super(RNN, self).__init__()\n",
        "    self.hidden_size = hidden_size\n",
        "    self.i2h = nn.Linear(input_size + hidden_size, hidden_size)\n",
        "    self.i2o = nn.Linear(input_size + hidden_size, output_size)\n",
        "    self.softmax = nn.LogSoftmax(dim = 1)\n",
        "\n",
        "  def forward(self, input, hidden):\n",
        "    combined = torch.cat((input, hidden), 1)\n",
        "    hidden = self.i2h(combined)\n",
        "    output = self.i2o(combined)\n",
        "    output = self.softmax(output)\n",
        "    return output, hidden\n",
        "\n",
        "  def initHidden(self):\n",
        "    return torch.zeros(1, self.hidden_size)\n",
        "\n",
        "n_hidden = 128\n",
        "rnn = RNN(n_letters, n_hidden, n_categories)"
      ],
      "metadata": {
        "id": "omW2FqY6yq0J"
      },
      "execution_count": null,
      "outputs": []
    },
    {
      "cell_type": "code",
      "source": [
        "input = letter_to_tensor('A')\n",
        "hidden = torch.zeros(1, n_hidden)\n",
        "output, next_hidden = rnn(input, hidden)"
      ],
      "metadata": {
        "id": "8oJ3vNac3pNT"
      },
      "execution_count": null,
      "outputs": []
    },
    {
      "cell_type": "code",
      "source": [
        "def category_from_output(output):\n",
        "  best_index = torch.argmax(output)\n",
        "  return all_categories[best_index], best_index.item()"
      ],
      "metadata": {
        "id": "E3KXAKCU4UvC"
      },
      "execution_count": null,
      "outputs": []
    },
    {
      "cell_type": "code",
      "source": [
        "category_from_output(output)"
      ],
      "metadata": {
        "colab": {
          "base_uri": "https://localhost:8080/"
        },
        "id": "jxK2kwTu5a-f",
        "outputId": "eed5f8df-cf0e-41bf-8026-68abe94879ea"
      },
      "execution_count": null,
      "outputs": [
        {
          "output_type": "execute_result",
          "data": {
            "text/plain": [
              "('Czech', 11)"
            ]
          },
          "metadata": {},
          "execution_count": 83
        }
      ]
    },
    {
      "cell_type": "code",
      "source": [
        "from torch.utils.data import Dataset"
      ],
      "metadata": {
        "id": "9XEet9fM6TJz"
      },
      "execution_count": null,
      "outputs": []
    },
    {
      "cell_type": "code",
      "source": [
        "import random\n",
        "\n",
        "def randomChoice(l):\n",
        "    return l[random.randint(0, len(l) - 1)]\n",
        "\n",
        "def randomTrainingExample():\n",
        "    category = randomChoice(all_categories)\n",
        "    line = randomChoice(category_lines[category])\n",
        "    category_tensor = torch.tensor([all_categories.index(category)], dtype=torch.long)\n",
        "    line_tensor = word_to_tensor(line)\n",
        "    return category, line, category_tensor, line_tensor\n",
        "\n",
        "for i in range(10):\n",
        "    category, line, category_tensor, line_tensor = randomTrainingExample()\n",
        "    print('category =', category, '/ line =', line)"
      ],
      "metadata": {
        "colab": {
          "base_uri": "https://localhost:8080/"
        },
        "id": "dgT5QqT17zbK",
        "outputId": "20ef0b80-2bc2-4c60-b861-eb376fa42382"
      },
      "execution_count": null,
      "outputs": [
        {
          "output_type": "stream",
          "name": "stdout",
          "text": [
            "category = Spanish / line = Perez\n",
            "category = Polish / line = Wronski\n",
            "category = French / line = Palomer\n",
            "category = Italian / line = Crocetti\n",
            "category = English / line = Gaudin\n",
            "category = Japanese / line = Ijiri\n",
            "category = Korean / line = Yu\n",
            "category = English / line = Carson\n",
            "category = Irish / line = Macdermott\n",
            "category = Irish / line = Whalen\n"
          ]
        }
      ]
    },
    {
      "cell_type": "code",
      "source": [
        "criterion = nn.NLLLoss()\n",
        "lr = 0.005\n",
        "n_hidden = 128\n",
        "rnn = RNN(n_letters, n_hidden, n_categories)\n",
        "# Optimizers specified in the torch.optim package\n",
        "optimizer = torch.optim.SGD(rnn.parameters(), lr=0.001, momentum=0.9)"
      ],
      "metadata": {
        "id": "C55kebXE5m2c"
      },
      "execution_count": null,
      "outputs": []
    },
    {
      "cell_type": "code",
      "source": [
        "all_words = []\n",
        "word_labels = []\n",
        "for category, words in category_lines.items():\n",
        "  all_words.extend(words)\n",
        "  word_labels.extend([all_categories.index(category) for _ in range(len(words))])"
      ],
      "metadata": {
        "id": "T4XHra51CA1e"
      },
      "execution_count": null,
      "outputs": []
    },
    {
      "cell_type": "code",
      "source": [
        "class wordDataset(Dataset):\n",
        "  def __init__(self, x, y):\n",
        "    self.x = x\n",
        "    self.y = y\n",
        "\n",
        "  def __len__(self):\n",
        "    return len(self.y)\n",
        "\n",
        "  def __getitem__(self, idx):\n",
        "    word = word_to_tensor(self.x[idx])\n",
        "    label = torch.tensor(self.y[idx])\n",
        "    return (word, label)"
      ],
      "metadata": {
        "id": "nArsfi7zDFf7"
      },
      "execution_count": null,
      "outputs": []
    },
    {
      "cell_type": "code",
      "source": [
        "from torch.utils.data import DataLoader\n",
        "training_data = wordDataset(all_words, word_labels)\n",
        "train_dataloader = DataLoader(dataset = training_data, batch_size=1, shuffle=True)"
      ],
      "metadata": {
        "id": "IEv4vAsGDrOv"
      },
      "execution_count": null,
      "outputs": []
    },
    {
      "cell_type": "code",
      "source": [
        "def train():\n",
        "  running_loss = 0\n",
        "  for epoch in range(2):\n",
        "    for i, data in enumerate(train_dataloader):\n",
        "      hidden = rnn.initHidden()\n",
        "      input, label = data\n",
        "      input = input[0]\n",
        "      optimizer.zero_grad()\n",
        "      for j in range(input.size()[0]):\n",
        "        output, hidden = rnn(input[j], hidden)\n",
        "      loss = criterion(output, label)\n",
        "      loss.backward()\n",
        "      optimizer.step()\n",
        "      running_loss += loss.item()\n",
        "      if i % 2000 == 0:   \n",
        "        print('[%d, %5d] loss: %.3f' %\n",
        "              (epoch + 1, i + 1, running_loss / 2000))\n",
        "        running_loss = 0.0\n",
        "        print('Finished Training')\n"
      ],
      "metadata": {
        "id": "q9F0SyIM5uyu"
      },
      "execution_count": null,
      "outputs": []
    },
    {
      "cell_type": "code",
      "source": [
        "train()"
      ],
      "metadata": {
        "colab": {
          "base_uri": "https://localhost:8080/"
        },
        "id": "KnEAsx2KE_jU",
        "outputId": "99c70173-99f7-4816-bacc-06f63d0892a9"
      },
      "execution_count": null,
      "outputs": [
        {
          "output_type": "stream",
          "name": "stdout",
          "text": [
            "[1,     1] loss: 0.000\n",
            "Finished Training\n",
            "[1,  2001] loss: 0.834\n",
            "Finished Training\n",
            "[1,  4001] loss: 0.820\n",
            "Finished Training\n",
            "[1,  6001] loss: 0.815\n",
            "Finished Training\n",
            "[1,  8001] loss: 0.870\n",
            "Finished Training\n",
            "[1, 10001] loss: 0.864\n",
            "Finished Training\n",
            "[1, 12001] loss: 0.850\n",
            "Finished Training\n",
            "[1, 14001] loss: 0.886\n",
            "Finished Training\n",
            "[1, 16001] loss: 0.823\n",
            "Finished Training\n",
            "[1, 18001] loss: 0.844\n",
            "Finished Training\n",
            "[1, 20001] loss: 0.855\n",
            "Finished Training\n",
            "[2,     1] loss: 0.039\n",
            "Finished Training\n",
            "[2,  2001] loss: 0.857\n",
            "Finished Training\n",
            "[2,  4001] loss: 0.838\n",
            "Finished Training\n",
            "[2,  6001] loss: 0.832\n",
            "Finished Training\n",
            "[2,  8001] loss: 0.867\n",
            "Finished Training\n",
            "[2, 10001] loss: 0.847\n",
            "Finished Training\n",
            "[2, 12001] loss: 0.862\n",
            "Finished Training\n",
            "[2, 14001] loss: 0.843\n",
            "Finished Training\n",
            "[2, 16001] loss: 0.857\n",
            "Finished Training\n",
            "[2, 18001] loss: 0.816\n",
            "Finished Training\n",
            "[2, 20001] loss: 0.858\n",
            "Finished Training\n"
          ]
        }
      ]
    },
    {
      "cell_type": "code",
      "source": [
        "# Keep track of correct guesses in a confusion matrix\n",
        "confusion = torch.zeros(n_categories, n_categories)\n",
        "n_confusion = 10000\n",
        "\n",
        "# Just return an output given a line\n",
        "def evaluate(line_tensor):\n",
        "    hidden = rnn.initHidden()\n",
        "\n",
        "    for i in range(line_tensor.size()[0]):\n",
        "        output, hidden = rnn(line_tensor[i], hidden)\n",
        "\n",
        "    return output\n",
        "\n",
        "# Go through a bunch of examples and record which are correctly guessed\n",
        "for i in range(n_confusion):\n",
        "    category, line, category_tensor, line_tensor = randomTrainingExample()\n",
        "    output = evaluate(line_tensor)\n",
        "    guess, guess_i = category_from_output(output)\n",
        "    category_i = all_categories.index(category)\n",
        "    confusion[category_i][guess_i] += 1\n",
        "\n",
        "# Normalize by dividing every row by its sum\n",
        "for i in range(n_categories):\n",
        "    confusion[i] = confusion[i] / confusion[i].sum()\n",
        "\n",
        "# Set up plot\n",
        "fig = plt.figure()\n",
        "ax = fig.add_subplot(111)\n",
        "cax = ax.matshow(confusion.numpy())\n",
        "fig.colorbar(cax)\n",
        "\n",
        "# Set up axes\n",
        "ax.set_xticklabels([''] + all_categories, rotation=90)\n",
        "ax.set_yticklabels([''] + all_categories)\n",
        "\n",
        "# Force label at every tick\n",
        "ax.xaxis.set_major_locator(ticker.MultipleLocator(1))\n",
        "ax.yaxis.set_major_locator(ticker.MultipleLocator(1))\n",
        "\n",
        "# sphinx_gallery_thumbnail_number = 2\n",
        "plt.show()"
      ],
      "metadata": {
        "colab": {
          "base_uri": "https://localhost:8080/",
          "height": 577
        },
        "id": "AKHxshliNS7z",
        "outputId": "c61b7faf-5045-431e-fe7a-18d1ad26ba40"
      },
      "execution_count": null,
      "outputs": [
        {
          "output_type": "stream",
          "name": "stderr",
          "text": [
            "<ipython-input-194-a4261e7a54ed>:33: UserWarning: FixedFormatter should only be used together with FixedLocator\n",
            "  ax.set_xticklabels([''] + all_categories, rotation=90)\n",
            "<ipython-input-194-a4261e7a54ed>:34: UserWarning: FixedFormatter should only be used together with FixedLocator\n",
            "  ax.set_yticklabels([''] + all_categories)\n"
          ]
        },
        {
          "output_type": "display_data",
          "data": {
            "text/plain": [
              "<Figure size 640x480 with 2 Axes>"
            ],
            "image/png": "[encoded data removed]"
          },
          "metadata": {}
        }
      ]
    },
    {
      "cell_type": "code",
      "source": [
        "def predict(input_line, n_predictions=3):\n",
        "    print('\\n> %s' % input_line)\n",
        "    with torch.no_grad():\n",
        "        output = evaluate(word_to_tensor(input_line))\n",
        "\n",
        "        # Get top N categories\n",
        "        topv, topi = output.topk(n_predictions, 1, True)\n",
        "        predictions = []\n",
        "\n",
        "        for i in range(n_predictions):\n",
        "            value = topv[0][i].item()\n",
        "            category_index = topi[0][i].item()\n",
        "            print('(%.2f) %s' % (value, all_categories[category_index]))\n",
        "            predictions.append([value, all_categories[category_index]])\n",
        "\n",
        "predict('Dovesky')\n",
        "predict('Jackson')\n",
        "predict('Satoshi')"
      ],
      "metadata": {
        "colab": {
          "base_uri": "https://localhost:8080/"
        },
        "id": "tVgXis7uNTcI",
        "outputId": "3aa96e26-806b-4482-8c08-11a91ee723bc"
      },
      "execution_count": null,
      "outputs": [
        {
          "output_type": "stream",
          "name": "stdout",
          "text": [
            "\n",
            "> Dovesky\n",
            "(-0.09) Russian\n",
            "(-2.95) English\n",
            "(-3.81) Czech\n",
            "\n",
            "> Jackson\n",
            "(-0.11) English\n",
            "(-3.05) Russian\n",
            "(-4.15) Scottish\n",
            "\n",
            "> Satoshi\n",
            "(-0.81) Japanese\n",
            "(-1.46) Arabic\n",
            "(-1.88) Italian\n"
          ]
        }
      ]
    },
    {
      "cell_type": "code",
      "source": [],
      "metadata": {
        "id": "qeHccZTbNcFu"
      },
      "execution_count": null,
      "outputs": []
    }
  ]
}